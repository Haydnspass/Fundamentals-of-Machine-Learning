{
 "cells": [
  {
   "cell_type": "code",
   "execution_count": 1,
   "metadata": {
    "collapsed": true
   },
   "outputs": [],
   "source": [
    "import numpy as np"
   ]
  },
  {
   "cell_type": "code",
   "execution_count": 4,
   "metadata": {},
   "outputs": [
    {
     "data": {
      "text/plain": [
       "'\\nX:      projection matrix\\n                X x b = y\\nb:      flattened mu\\ny:      response vector  / sinogram\\n                \\nM:      resolution along dimension in image (i.e. 256 x 256 px image)\\nD:      D = M x M\\n\\nN_0:    number of projection angles\\nN_p:    number of bins\\nN:      response vector size N = N_0 x N_p\\n\\n'"
      ]
     },
     "execution_count": 4,
     "metadata": {},
     "output_type": "execute_result"
    }
   ],
   "source": [
    "def construct_X(M, alphas, NP=None):\n",
    "    def coordinate_array(a, h, M): # a: 2 element vector of coordinate origin, h: pixel distance\n",
    "        if a.dtype == list:\n",
    "            a = np.array(a)\n",
    "        # c = np.zeros((2, np.square(M)))\n",
    "        c = a + np.arange(0, np.square(M)) * np.ones_like(a)\n",
    "        return c\n",
    "\n",
    "    # use sufficient number of sensor bins\n",
    "    if Np is None:\n",
    "        Np = np.ceil(np.sqrt(2) * M)\n",
    "\n",
    "\"\"\"\n",
    "X:      projection matrix\n",
    "                X x b = y\n",
    "b:      flattened mu\n",
    "y:      response vector  / sinogram\n",
    "                \n",
    "M:      resolution along dimension in image (i.e. 256 x 256 px image)\n",
    "D:      D = M x M\n",
    "\n",
    "N_0:    number of projection angles\n",
    "N_p:    number of bins\n",
    "N:      response vector size N = N_0 x N_p\n",
    "\n",
    "\"\"\""
   ]
  },
  {
   "cell_type": "code",
   "execution_count": null,
   "metadata": {},
   "outputs": [],
   "source": []
  }
 ],
 "metadata": {
  "kernelspec": {
   "display_name": "Python 2",
   "language": "python",
   "name": "python2"
  },
  "language_info": {
   "codemirror_mode": {
    "name": "ipython",
    "version": 2
   },
   "file_extension": ".py",
   "mimetype": "text/x-python",
   "name": "python",
   "nbconvert_exporter": "python",
   "pygments_lexer": "ipython2",
   "version": "2.7.6"
  }
 },
 "nbformat": 4,
 "nbformat_minor": 0
}
