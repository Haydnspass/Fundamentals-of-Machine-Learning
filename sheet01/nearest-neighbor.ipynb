{
 "cells": [
  {
   "cell_type": "code",
   "execution_count": 33,
   "metadata": {
    "collapsed": false
   },
   "outputs": [],
   "source": [
    "# import packages\n",
    "from sklearn.datasets import load_digits\n",
    "from sklearn.model_selection import train_test_split\n",
    "from sklearn.neighbors import KNeighborsClassifier\n",
    "from scipy.spatial import distance\n",
    "from scipy.stats import mode\n",
    "import numpy as np\n",
    "import time\n",
    "import itertools\n",
    "import matplotlib.pyplot as plt"
   ]
  },
  {
   "cell_type": "code",
   "execution_count": 5,
   "metadata": {},
   "outputs": [
    {
     "name": "stdout",
     "output_type": "stream",
     "text": [
      "dict_keys(['data', 'target', 'target_names', 'images', 'DESCR'])\nData type is: float64\nShap is: (1797, 64)\n5\n"
     ]
    },
    {
     "data": {
      "image/png": "[encoded data removed]",
      "text/plain": [
       "<matplotlib.figure.Figure at 0x1fdbe1cbe10>"
      ]
     },
     "metadata": {},
     "output_type": "display_data"
    }
   ],
   "source": [
    "digits = load_digits()\n",
    "\n",
    "print(digits.keys())\n",
    "\n",
    "data = digits[\"data\"]\n",
    "images = digits[\"images\"]\n",
    "target = digits[\"target\"]\n",
    "target_names = digits[\"target_names\"]\n",
    "\n",
    "print('Data type is: ' + str(data.dtype))\n",
    "print('Shap is: ' + str(data.shape))\n",
    "\n",
    "img_number = 5\n",
    "print(target_names[img_number])\n",
    "img_shape = [8, 8]\n",
    "\n",
    "img = images[img_number]  # np.reshape(data[img_number],img_shape)\n",
    "\n",
    "# test dimensionality\n",
    "assert 2 == np.size(np.shape(img))\n",
    "\n",
    "plt.figure()\n",
    "plt.gray()\n",
    "plt.imshow(img, interpolation=\"nearest\")\n",
    "plt.show()\n",
    "\n",
    "X_all = data\n",
    "y_all = target\n",
    "\n",
    "# this is deprecated\n",
    "# X_train, X_test, y_train, y_test = cross_validation.train_test_split(digits.data, digits.target, test_size = 0.4, random_state=0)\n",
    "X_train, X_test, y_train, y_test = train_test_split(digits.data, digits.target, test_size=0.4, random_state=0)\n"
   ]
  },
  {
   "cell_type": "heading",
   "metadata": {},
   "level": 1,
   "source": [
    "2.2"
   ]
  },
  {
   "cell_type": "code",
   "execution_count": 6,
   "metadata": {},
   "outputs": [],
   "source": [
    "# that's an incredible loopy function\n",
    "def dist_loop(training_set, test_set):\n",
    "    # train_shape = training\n",
    "    dist = np.zeros((training_set.shape[0], test_set.shape[0]))\n",
    "    for i in range(training_set.shape[0]):\n",
    "        for j in range(test_set.shape[0]):\n",
    "            dist[i, j] = np.sqrt(np.sum(np.square(test_set[j,k]-training_set[i,k]) for k in range(training_set.shape[1])))\n",
    "    return dist"
   ]
  },
  {
   "cell_type": "heading",
   "metadata": {},
   "level": 1,
   "source": [
    "2.3"
   ]
  },
  {
   "cell_type": "code",
   "execution_count": 10,
   "metadata": {},
   "outputs": [],
   "source": [
    "def dist_mat(training_set, test_set):\n",
    "    dist = distance.cdist(training_set, test_set, metric=\"euclidean\")\n",
    "    return dist"
   ]
  },
  {
   "cell_type": "code",
   "execution_count": 12,
   "metadata": {},
   "outputs": [
    {
     "name": "stdout",
     "output_type": "stream",
     "text": [
      "Elapsed time for loopy function was 115.453125\nElapsed time for matrix function was 0.046875\n"
     ]
    }
   ],
   "source": [
    "t = time.process_time()\n",
    "dist1 = dist_loop(X_train, X_test)\n",
    "elapsed_time = time.process_time() - t\n",
    "print(\"Elapsed time for loopy function was \" + str(elapsed_time))\n",
    "\n",
    "t = time.process_time()\n",
    "dist2 = dist_mat(X_train, X_test)\n",
    "elapsed_time = time.process_time() - t\n",
    "print(\"Elapsed time for matrix function was \" + str(elapsed_time))\n",
    "\n",
    "\n",
    "# check equality of both functions\n",
    "eps = 1e-5\n",
    "abs_diff = np.abs(dist1 - dist2)\n",
    "assert abs_diff.all() < eps"
   ]
  },
  {
   "cell_type": "code",
   "execution_count": 14,
   "metadata": {},
   "outputs": [],
   "source": [
    "# implementation of nearest neighbour classifier\n",
    "dist = dist2\n"
   ]
  },
  {
   "cell_type": "heading",
   "metadata": {},
   "level": 1,
   "source": [
    "2.4"
   ]
  },
  {
   "cell_type": "code",
   "execution_count": 29,
   "metadata": {},
   "outputs": [
    {
     "name": "stdout",
     "output_type": "stream",
     "text": [
      "0.986111111111\n"
     ]
    }
   ],
   "source": [
    "\n",
    "# only use 3 and 9\n",
    "n1 = 3\n",
    "n2 = 9\n",
    "sub_ix = np.where((y_train == n1) | (y_train == n2))\n",
    "y_train_sub = y_train[sub_ix]\n",
    "X_train_sub = (X_train[sub_ix,:]).squeeze()\n",
    "\n",
    "sub_ix = np.where((y_test == n1) | (y_test == n2))\n",
    "y_test_sub = y_test[sub_ix]\n",
    "X_test_sub = (X_test[sub_ix,:]).squeeze()\n",
    "\n",
    "def nearest_neighbour(xt, x, yt): # x: new data, xt: trained data yt: trained target\n",
    "    dist = dist_mat(xt, x) # rows are xt, columns x, so find argmin in one column\n",
    "    argmin_dist = np.argmin(dist, 0)\n",
    "    y = yt[argmin_dist]\n",
    "    return y\n",
    "\n",
    "def calc_true_pred(y_p, y_t):\n",
    "    is_true = np.zeros_like(y_t)\n",
    "    is_true[(y_p == y_t)] = 1\n",
    "    no_true = np.sum(is_true)\n",
    "    perc_true = no_true / len(y_p)\n",
    "    return no_true, perc_true\n",
    "\n",
    "y_pNN = nearest_neighbour(X_train_sub, X_test_sub, y_train_sub)\n",
    "_, percent_true_1NN = calc_true_pred(y_pNN, y_test_sub)\n",
    "print(percent_true_1NN)"
   ]
  },
  {
   "cell_type": "code",
   "execution_count": 32,
   "metadata": {},
   "outputs": [
    {
     "name": "stdout",
     "output_type": "stream",
     "text": [
      "k: 1 success: 0.986111111111\nk: 3 success: 0.993055555556\nk: 5 success: 0.993055555556\nk: 9 success: 0.993055555556\nk: 17 success: 0.993055555556\nk: 33 success: 0.979166666667\n"
     ]
    }
   ],
   "source": [
    "def k_nearest_neighbour(xt, x, yt, k):\n",
    "    dist = dist_mat(xt, x)  # rows are xt, columns x, so find argmin in one column\n",
    "    argmin_dist = np.argsort(dist, 0)\n",
    "    y_argmin_dist = yt[argmin_dist[:k,:]] #[argmin_dist,k]\n",
    "    # find most common value and output that as majority vote /// tbd\n",
    "    majority_information = mode(y_argmin_dist, axis=0)\n",
    "    return np.squeeze(majority_information.mode)\n",
    "\n",
    "k_tests = [1, 3, 5, 9, 17, 33]\n",
    "for k in k_tests:\n",
    "    y_pkNN = k_nearest_neighbour(X_train_sub, X_test_sub, y_train_sub, k)\n",
    "    _, percent_true_kNN = calc_true_pred(y_pkNN, y_test_sub)\n",
    "    print('k: ' + str(k) + ' success: ' + str(percent_true_kNN))"
   ]
  },
  {
   "cell_type": "code",
   "execution_count": 45,
   "metadata": {},
   "outputs": [],
   "source": [
    "def cross_validation(x,y,k,folds):\n",
    "    len_data = len(y)\n",
    "    fold_size = np.floor(len_data / folds)\n",
    "\n",
    "    percent_true_sk_kNN = np.zeros((folds,1))\n",
    "    percent_true_own_kNN = np.zeros((folds,1))\n",
    "    for i in range(folds):\n",
    "        ix_test = list(range(int(i * fold_size), int((i + 1) * fold_size)))\n",
    "        ix_train = list(range(len_data))\n",
    "        del ix_train[int(i * fold_size):int((i + 1) * fold_size)]\n",
    "\n",
    "        xs_train = x[ix_train]\n",
    "        xs_test = x[ix_test]\n",
    "\n",
    "        ys_train = y[ix_train]\n",
    "        ys_test = y[ix_test]\n",
    "\n",
    "        neigh = KNeighborsClassifier(n_neighbors=k)\n",
    "        neigh.fit(xs_train, ys_train)\n",
    "        result_sk_classifier = neigh.predict(xs_test)\n",
    "        \n",
    "        result_own_classifier = k_nearest_neighbour(xs_train,xs_test,ys_train, k)\n",
    "        \n",
    "        _, percent_true_sk_kNN[i] = calc_true_pred(result_sk_classifier, ys_test)\n",
    "        _, percent_true_own_kNN[i] = calc_true_pred(result_own_classifier, ys_test)\n",
    "        # print(percent_true_kNN[i])\n",
    "    # mean_perc = np.mean(percent_true_kNN)\n",
    "    print('k: ' + str(k) + ' --- n: ' + str(folds) + ' --- mean success: ' + str(np.mean(percent_true_sk_kNN)) + ' sk class.')\n",
    "    print('k: ' + str(k) + ' --- n: ' + str(folds) + ' --- mean success: ' + str(np.mean(percent_true_own_kNN)) + ' own class.')\n",
    "\n"
   ]
  },
  {
   "cell_type": "code",
   "execution_count": 46,
   "metadata": {},
   "outputs": [
    {
     "name": "stdout",
     "output_type": "stream",
     "text": [
      "k: 1 --- n: 2 --- mean success: 0.95991091314 sk class.\nk: 1 --- n: 2 --- mean success: 0.959354120267 own class.\n"
     ]
    },
    {
     "name": "stdout",
     "output_type": "stream",
     "text": [
      "k: 1 --- n: 5 --- mean success: 0.964902506964 sk class.\nk: 1 --- n: 5 --- mean success: 0.964902506964 own class.\n"
     ]
    },
    {
     "name": "stdout",
     "output_type": "stream",
     "text": [
      "k: 1 --- n: 10 --- mean success: 0.975418994413 sk class.\nk: 1 --- n: 10 --- mean success: 0.975418994413 own class.\n"
     ]
    },
    {
     "name": "stdout",
     "output_type": "stream",
     "text": [
      "k: 3 --- n: 2 --- mean success: 0.957683741648 sk class.\nk: 3 --- n: 2 --- mean success: 0.957683741648 own class.\n"
     ]
    },
    {
     "name": "stdout",
     "output_type": "stream",
     "text": [
      "k: 3 --- n: 5 --- mean success: 0.966573816156 sk class.\nk: 3 --- n: 5 --- mean success: 0.966573816156 own class.\n"
     ]
    },
    {
     "name": "stdout",
     "output_type": "stream",
     "text": [
      "k: 3 --- n: 10 --- mean success: 0.975977653631 sk class.\nk: 3 --- n: 10 --- mean success: 0.975977653631 own class.\n"
     ]
    },
    {
     "name": "stdout",
     "output_type": "stream",
     "text": [
      "k: 5 --- n: 2 --- mean success: 0.951559020045 sk class.\nk: 5 --- n: 2 --- mean success: 0.951559020045 own class.\n"
     ]
    },
    {
     "name": "stdout",
     "output_type": "stream",
     "text": [
      "k: 5 --- n: 5 --- mean success: 0.964902506964 sk class.\nk: 5 --- n: 5 --- mean success: 0.965459610028 own class.\n"
     ]
    },
    {
     "name": "stdout",
     "output_type": "stream",
     "text": [
      "k: 5 --- n: 10 --- mean success: 0.973184357542 sk class.\nk: 5 --- n: 10 --- mean success: 0.973184357542 own class.\n"
     ]
    },
    {
     "name": "stdout",
     "output_type": "stream",
     "text": [
      "k: 9 --- n: 2 --- mean success: 0.944320712695 sk class.\nk: 9 --- n: 2 --- mean success: 0.944320712695 own class.\n"
     ]
    },
    {
     "name": "stdout",
     "output_type": "stream",
     "text": [
      "k: 9 --- n: 5 --- mean success: 0.957660167131 sk class.\nk: 9 --- n: 5 --- mean success: 0.957660167131 own class.\n"
     ]
    },
    {
     "name": "stdout",
     "output_type": "stream",
     "text": [
      "k: 9 --- n: 10 --- mean success: 0.967039106145 sk class.\nk: 9 --- n: 10 --- mean success: 0.967039106145 own class.\n"
     ]
    },
    {
     "name": "stdout",
     "output_type": "stream",
     "text": [
      "k: 17 --- n: 2 --- mean success: 0.938195991091 sk class.\nk: 17 --- n: 2 --- mean success: 0.937639198218 own class.\n"
     ]
    },
    {
     "name": "stdout",
     "output_type": "stream",
     "text": [
      "k: 17 --- n: 5 --- mean success: 0.955431754875 sk class.\nk: 17 --- n: 5 --- mean success: 0.955431754875 own class.\n"
     ]
    },
    {
     "name": "stdout",
     "output_type": "stream",
     "text": [
      "k: 17 --- n: 10 --- mean success: 0.964804469274 sk class.\nk: 17 --- n: 10 --- mean success: 0.964804469274 own class.\n"
     ]
    },
    {
     "name": "stdout",
     "output_type": "stream",
     "text": [
      "k: 33 --- n: 2 --- mean success: 0.9214922049 sk class.\nk: 33 --- n: 2 --- mean success: 0.922048997773 own class.\n"
     ]
    },
    {
     "name": "stdout",
     "output_type": "stream",
     "text": [
      "k: 33 --- n: 5 --- mean success: 0.940389972145 sk class.\nk: 33 --- n: 5 --- mean success: 0.940947075209 own class.\n"
     ]
    },
    {
     "name": "stdout",
     "output_type": "stream",
     "text": [
      "k: 33 --- n: 10 --- mean success: 0.94748603352 sk class.\nk: 33 --- n: 10 --- mean success: 0.948044692737 own class.\n"
     ]
    }
   ],
   "source": [
    "folds = [2, 5, 10]\n",
    "for k in k_tests:\n",
    "    for n in folds:\n",
    "        cross_validation(digits.data, digits.target, k, n)"
   ]
  },
  {
   "cell_type": "code",
   "execution_count": 17,
   "metadata": {},
   "outputs": [],
   "source": [
    "\n"
   ]
  }
 ],
 "metadata": {
  "kernelspec": {
   "display_name": "Python 3",
   "language": "python",
   "name": "python3"
  },
  "language_info": {
   "codemirror_mode": {
    "name": "ipython",
    "version": 3
   },
   "file_extension": ".py",
   "mimetype": "text/x-python",
   "name": "python",
   "nbconvert_exporter": "python",
   "pygments_lexer": "ipython3",
   "version": "3.6.3"
  }
 },
 "nbformat": 4,
 "nbformat_minor": 2
}
