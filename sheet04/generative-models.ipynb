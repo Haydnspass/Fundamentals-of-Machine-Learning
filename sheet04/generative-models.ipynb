{
 "cells": [
  {
   "cell_type": "code",
   "execution_count": 1,
   "metadata": {},
   "outputs": [],
   "source": [
    "import h5py\n",
    "import sys\n",
    "import numpy as np\n",
    "import bisect\n",
    "\n",
    "import matplotlib.pyplot as plt\n",
    "import matplotlib.cm as cm\n",
    "\n",
    "class Histogram(object):\n",
    "    \"\"\"Histogram.\n",
    "    \"\"\"\n",
    "\n",
    "    def __init__(self, values):\n",
    "        \"\"\"Create a histogram for the given values using the Freedman-Diaconis rule for the bin width.\n",
    "\n",
    "        :param values: the values from which the histogram will be computed\n",
    "        \"\"\"\n",
    "        self.num_instances = len(values)\n",
    "\n",
    "        # Get the number of bins.\n",
    "        v_min, v_25, v_75, v_max = np.percentile(values, [0, 25, 75, 100])\n",
    "        # freedman_diaconis_width = 2 * (v_75 - v_25) / (len(values) ** (1/3.0))\n",
    "        freedman_diaconis_width = (v_max - v_min) / (len(values) ** (1/3.0))\n",
    "        num_bins = int(round((v_max - v_min) / freedman_diaconis_width))\n",
    "        assert num_bins > 0\n",
    "\n",
    "        # Fill the bins.\n",
    "        self.heights, self.bin_edges = np.histogram(values, bins=num_bins)\n",
    "\n",
    "    def find_bin(self, value):\n",
    "        \"\"\"Find the bin index of the given value.\n",
    "\n",
    "        :param value: some value\n",
    "        :return: bin index\n",
    "        \"\"\"\n",
    "        bin_index = bisect.bisect_left(self.bin_edges, value) - 1\n",
    "        bin_index = max(bin_index, 0)\n",
    "        bin_index = min(bin_index, len(self.heights)-1)\n",
    "        return bin_index\n",
    "\n",
    "    def bin_probability(self, bin_index):\n",
    "        \"\"\"Return the bin probability of the desired bin.\n",
    "\n",
    "        :param bin_index: index of the bin\n",
    "        :return: probability of the bin\n",
    "        \"\"\"\n",
    "        assert 0 <= bin_index <= len(self.heights) - 1\n",
    "        return self.heights[bin_index] / float(self.num_instances)\n",
    "\n",
    "class NaiveBayesClassifier(object):\n",
    "    \"\"\"Naive Bayes classifier.\n",
    "    \"\"\"\n",
    "\n",
    "    def __init__(self):\n",
    "        self.num_instances = None  # Number of instances that were used in training.\n",
    "        self.num_feats = None  # Number of features that were used in training.\n",
    "        self.classes = None  # The classes that were found in training.\n",
    "        self.histograms = {}  # Dict with histograms, key: class, value: list with histograms for all features.\n",
    "        self.priors = {}  # Dict with priors, key: class, value: prior of the class.\n",
    "\n",
    "    def train(self, train_x, train_y):\n",
    "        \"\"\"Train the classifier.\n",
    "\n",
    "        :param train_x: training x data\n",
    "        :param train_y: training y data\n",
    "        \"\"\"\n",
    "        assert train_x.shape[0] == len(train_y)\n",
    "        self.num_instances = train_x.shape[0]\n",
    "        self.num_feats = train_x.shape[1]\n",
    "        self.classes = np.unique(train_y)\n",
    "\n",
    "        # Create one histogram for each class and each feature.\n",
    "        self.histograms.clear()\n",
    "        self.priors.clear()\n",
    "        for cl in self.classes:\n",
    "            # Get the data of the current class.\n",
    "            train_x_cl = [train_x[k] for k in range(self.num_instances) if train_y[k] == cl]\n",
    "            num_instances_cl = len(train_x_cl)\n",
    "            self.priors[cl] = num_instances_cl / float(self.num_instances)\n",
    "\n",
    "            # Create one histogram per feature.\n",
    "            self.histograms[cl] = []\n",
    "            for i in range(self.num_feats):\n",
    "                histo_points = [train_x_cl[k][i] for k in range(num_instances_cl)]\n",
    "                self.histograms[cl].append(Histogram(histo_points))\n",
    "\n",
    "    def probabilities_single(self, test_x):\n",
    "        \"\"\"Compute the class probabilities of a single instance.\n",
    "\n",
    "        :param test_x: test x data of a single instance\n",
    "        :return: probabilities of test_x for each class\n",
    "        \"\"\"\n",
    "        assert len(test_x) == self.num_feats,\\\n",
    "            \"NaiveBayesClassifier.probabilities_single(): Number of features in test and training must be the same.\"\n",
    "\n",
    "        probs = {}\n",
    "        for cl in self.classes:\n",
    "            # Compute the likelihood.\n",
    "            prob = self.priors[cl]\n",
    "            for i in range(self.num_feats):\n",
    "                # Find height of histogram bin with class cl that contains test_x[i].\n",
    "                histo = self.histograms[cl][i]\n",
    "                bin_index = histo.find_bin(test_x[i])\n",
    "                prob *= histo.bin_probability(bin_index)\n",
    "            probs[cl] = prob\n",
    "        return probs\n",
    "\n",
    "    def predict_single(self, test_x):\n",
    "        \"\"\"Predict the class of a single instance.\n",
    "\n",
    "        :param test_x: test x data of a single instance\n",
    "        :return: predicted class of test_x\n",
    "        \"\"\"\n",
    "        probs = self.probabilities_single(test_x)\n",
    "        max_cl = max(probs.keys(), key=lambda cl: probs[cl])\n",
    "        return max_cl\n",
    "\n",
    "    def predict(self, test_x):\n",
    "        \"\"\"Predict the classes of the given sample.\n",
    "\n",
    "        :param test_x: test x data\n",
    "        :return: predicted classes of test_x\n",
    "        \"\"\"\n",
    "        assert test_x.shape[1] == self.num_feats,\\\n",
    "            \"NaiveBayesClassifier.predict(): Number of features in test and training must be the same.\"\n",
    "        return np.array([self.predict_single(test_x[i]) for i in range(test_x.shape[0])])\n",
    "\n",
    "\n",
    "def use_subset(condition, x, y):\n",
    "    sub_ix = np.where((y == condition[0]) | (y == condition[1]))\n",
    "    y_sub = (y[sub_ix]).squeeze()\n",
    "    # rename labels\n",
    "    y_sub[y_sub == condition[0]] = 0\n",
    "    y_sub[y_sub == condition[1]] = 1\n",
    "    x_sub = (x[sub_ix, :]).squeeze()\n",
    "    return x_sub, y_sub"
   ]
  },
  {
   "cell_type": "code",
   "execution_count": 2,
   "metadata": {},
   "outputs": [
    {
     "name": "stdout",
     "output_type": "stream",
     "text": [
      "(120000, 9, 9)\n",
      "(120000,)\n"
     ]
    }
   ],
   "source": [
    "f = h5py.File(\"data/digits.h5\")\n",
    "images = f[\"images\"].value\n",
    "labels = f[\"labels\"].value\n",
    "f.close()\n",
    "\n",
    "print(images.shape)\n",
    "print(labels.shape)"
   ]
  },
  {
   "cell_type": "code",
   "execution_count": 8,
   "metadata": {},
   "outputs": [
    {
     "data": {
      "image/png": "[encoded data removed]",
      "text/plain": [
       "<matplotlib.figure.Figure at 0x121fcc0b8>"
      ]
     },
     "metadata": {},
     "output_type": "display_data"
    }
   ],
   "source": [
    "# use only digit 3\n",
    "x, y = use_subset([3, 3], images, labels)\n",
    "\n",
    "f, axarr = plt.subplots(3, 3)\n",
    "for i in range(9):\n",
    "    axarr[i % 3, i//3].imshow(x[i,:,:])\n",
    "\n",
    "plt.show()"
   ]
  },
  {
   "cell_type": "code",
   "execution_count": 29,
   "metadata": {},
   "outputs": [],
   "source": [
    "class GenerativeBayes(NaiveBayesClassifier):        \n",
    "        \n",
    "    def sample_naive_bayes(self):\n",
    "        # loop over feature dimensions\n",
    "            # select bin\n",
    "                # Pl = n_l / n\n",
    "                # inverse transform sampling\n",
    "            # select location, i.e. pixel value\n",
    "            print(self.histograms[0])"
   ]
  },
  {
   "cell_type": "code",
   "execution_count": 30,
   "metadata": {},
   "outputs": [
    {
     "name": "stdout",
     "output_type": "stream",
     "text": [
      "[<__main__.Histogram object at 0x12195c0b8>, <__main__.Histogram object at 0x12195c048>, <__main__.Histogram object at 0x12195c518>, <__main__.Histogram object at 0x12195c080>, <__main__.Histogram object at 0x121968358>, <__main__.Histogram object at 0x121968390>, <__main__.Histogram object at 0x12196acc0>, <__main__.Histogram object at 0x12196a710>, <__main__.Histogram object at 0x12196ab70>]\n"
     ]
    }
   ],
   "source": [
    "gnb = GenerativeBayes()\n",
    "gnb.train(x, y)\n",
    "gnb.sample_naive_bayes()"
   ]
  },
  {
   "cell_type": "code",
   "execution_count": null,
   "metadata": {},
   "outputs": [],
   "source": []
  }
 ],
 "metadata": {
  "kernelspec": {
   "display_name": "Python 3",
   "language": "python",
   "name": "python3"
  },
  "language_info": {
   "codemirror_mode": {
    "name": "ipython",
    "version": 3
   },
   "file_extension": ".py",
   "mimetype": "text/x-python",
   "name": "python",
   "nbconvert_exporter": "python",
   "pygments_lexer": "ipython3",
   "version": "3.6.3"
  }
 },
 "nbformat": 4,
 "nbformat_minor": 1
}
