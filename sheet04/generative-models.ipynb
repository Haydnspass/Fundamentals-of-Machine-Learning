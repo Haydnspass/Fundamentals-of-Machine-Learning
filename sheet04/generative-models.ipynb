{
 "cells": [
  {
   "cell_type": "markdown",
   "metadata": {},
   "source": [
    "# Naive Bayes Generative Algorithm"
   ]
  },
  {
   "cell_type": "code",
   "execution_count": 2,
   "metadata": {},
   "outputs": [],
   "source": [
    "import h5py\n",
    "import sys\n",
    "import numpy as np\n",
    "import bisect\n",
    "\n",
    "import matplotlib.pyplot as plt\n",
    "import matplotlib.cm as cm\n",
    "\n",
    "class Histogram(object):\n",
    "    \"\"\"Histogram.\n",
    "    \"\"\"\n",
    "\n",
    "    def __init__(self, values):\n",
    "        \"\"\"Create a histogram for the given values using the Freedman-Diaconis rule for the bin width.\n",
    "\n",
    "        :param values: the values from which the histogram will be computed\n",
    "        \"\"\"\n",
    "        self.num_instances = len(values)\n",
    "\n",
    "        # Get the number of bins.\n",
    "        v_min, v_25, v_75, v_max = np.percentile(values, [0, 25, 75, 100])\n",
    "        # freedman_diaconis_width = 2 * (v_75 - v_25) / (len(values) ** (1/3.0))\n",
    "        freedman_diaconis_width = (v_max - v_min) / (len(values) ** (1/3.0))\n",
    "        num_bins = int(round((v_max - v_min) / freedman_diaconis_width))\n",
    "        assert num_bins > 0\n",
    "\n",
    "        # Fill the bins.\n",
    "        self.heights, self.bin_edges = np.histogram(values, bins=num_bins)\n",
    "\n",
    "    def find_bin(self, value):\n",
    "        \"\"\"Find the bin index of the given value.\n",
    "\n",
    "        :param value: some value\n",
    "        :return: bin index\n",
    "        \"\"\"\n",
    "        bin_index = bisect.bisect_left(self.bin_edges, value) - 1\n",
    "        bin_index = max(bin_index, 0)\n",
    "        bin_index = min(bin_index, len(self.heights)-1)\n",
    "        return bin_index\n",
    "\n",
    "    def bin_probability(self, bin_index):\n",
    "        \"\"\"Return the bin probability of the desired bin.\n",
    "\n",
    "        :param bin_index: index of the bin\n",
    "        :return: probability of the bin\n",
    "        \"\"\"\n",
    "        assert 0 <= bin_index <= len(self.heights) - 1\n",
    "        return self.heights[bin_index] / float(self.num_instances)\n",
    "\n",
    "class NaiveBayesClassifier(object):\n",
    "    \"\"\"Naive Bayes classifier.\n",
    "    \"\"\"\n",
    "\n",
    "    def __init__(self):\n",
    "        self.num_instances = None  # Number of instances that were used in training.\n",
    "        self.num_feats = None  # Number of features that were used in training.\n",
    "        self.classes = None  # The classes that were found in training.\n",
    "        self.histograms = {}  # Dict with histograms, key: class, value: list with histograms for all features.\n",
    "        self.priors = {}  # Dict with priors, key: class, value: prior of the class.\n",
    "\n",
    "    def train(self, train_x, train_y):\n",
    "        \"\"\"Train the classifier.\n",
    "\n",
    "        :param train_x: training x data\n",
    "        :param train_y: training y data\n",
    "        \"\"\"\n",
    "        assert train_x.shape[0] == len(train_y)\n",
    "        self.num_instances = train_x.shape[0]\n",
    "        self.num_feats = train_x.shape[1]\n",
    "        self.classes = np.unique(train_y)\n",
    "\n",
    "        # Create one histogram for each class and each feature.\n",
    "        self.histograms.clear()\n",
    "        self.priors.clear()\n",
    "        for cl in self.classes:\n",
    "            # Get the data of the current class.\n",
    "            train_x_cl = [train_x[k] for k in range(self.num_instances) if train_y[k] == cl]\n",
    "            num_instances_cl = len(train_x_cl)\n",
    "            self.priors[cl] = num_instances_cl / float(self.num_instances)\n",
    "\n",
    "            # Create one histogram per feature.\n",
    "            self.histograms[cl] = []\n",
    "            for i in range(self.num_feats):\n",
    "                histo_points = [train_x_cl[k][i] for k in range(num_instances_cl)]\n",
    "                self.histograms[cl].append(Histogram(histo_points))\n",
    "\n",
    "    def probabilities_single(self, test_x):\n",
    "        \"\"\"Compute the class probabilities of a single instance.\n",
    "\n",
    "        :param test_x: test x data of a single instance\n",
    "        :return: probabilities of test_x for each class\n",
    "        \"\"\"\n",
    "        assert len(test_x) == self.num_feats,\\\n",
    "            \"NaiveBayesClassifier.probabilities_single(): Number of features in test and training must be the same.\"\n",
    "\n",
    "        probs = {}\n",
    "        for cl in self.classes:\n",
    "            # Compute the likelihood.\n",
    "            prob = self.priors[cl]\n",
    "            for i in range(self.num_feats):\n",
    "                # Find height of histogram bin with class cl that contains test_x[i].\n",
    "                histo = self.histograms[cl][i]\n",
    "                bin_index = histo.find_bin(test_x[i])\n",
    "                prob *= histo.bin_probability(bin_index)\n",
    "            probs[cl] = prob\n",
    "        return probs\n",
    "\n",
    "    def predict_single(self, test_x):\n",
    "        \"\"\"Predict the class of a single instance.\n",
    "\n",
    "        :param test_x: test x data of a single instance\n",
    "        :return: predicted class of test_x\n",
    "        \"\"\"\n",
    "        probs = self.probabilities_single(test_x)\n",
    "        max_cl = max(probs.keys(), key=lambda cl: probs[cl])\n",
    "        return max_cl\n",
    "\n",
    "    def predict(self, test_x):\n",
    "        \"\"\"Predict the classes of the given sample.\n",
    "\n",
    "        :param test_x: test x data\n",
    "        :return: predicted classes of test_x\n",
    "        \"\"\"\n",
    "        assert test_x.shape[1] == self.num_feats,\\\n",
    "            \"NaiveBayesClassifier.predict(): Number of features in test and training must be the same.\"\n",
    "        return np.array([self.predict_single(test_x[i]) for i in range(test_x.shape[0])])\n",
    "\n",
    "\n",
    "def use_subset(condition, x, y):\n",
    "    sub_ix = np.where((y == condition[0]) | (y == condition[1]))\n",
    "    y_sub = (y[sub_ix]).squeeze()\n",
    "    # rename labels\n",
    "    y_sub[y_sub == condition[0]] = 0\n",
    "    y_sub[y_sub == condition[1]] = 1\n",
    "    x_sub = (x[sub_ix, :]).squeeze()\n",
    "    return x_sub, y_sub"
   ]
  },
  {
   "cell_type": "code",
   "execution_count": 3,
   "metadata": {},
   "outputs": [
    {
     "name": "stdout",
     "output_type": "stream",
     "text": [
      "(120000, 9, 9)\n",
      "(120000,)\n"
     ]
    }
   ],
   "source": [
    "f = h5py.File(\"data/digits.h5\")\n",
    "images = f[\"images\"].value\n",
    "labels = f[\"labels\"].value\n",
    "f.close()\n",
    "\n",
    "print(images.shape)\n",
    "print(labels.shape)"
   ]
  },
  {
   "cell_type": "code",
   "execution_count": 4,
   "metadata": {},
   "outputs": [
    {
     "data": {
      "image/png": "[encoded data removed]",
      "text/plain": [
       "<matplotlib.figure.Figure at 0x10d111940>"
      ]
     },
     "metadata": {},
     "output_type": "display_data"
    }
   ],
   "source": [
    "# use only digit 3\n",
    "x, y = use_subset([3, 7], images, labels)\n",
    "\n",
    "f, axarr = plt.subplots(3, 3, figsize=(10, 10))\n",
    "for i in range(9):\n",
    "    axarr[i % 3, i//3].imshow(x[i,:,:])\n",
    "\n",
    "plt.show()"
   ]
  },
  {
   "cell_type": "code",
   "execution_count": 5,
   "metadata": {},
   "outputs": [],
   "source": [
    "class GenerativeBayes(NaiveBayesClassifier):\n",
    "    def sample_naive_bayes(self, digitIx):\n",
    "        pxValue = np.zeros(len(self.histograms[digitIx]))\n",
    "        for i, px in enumerate(self.histograms[digitIx]):\n",
    "            ql = np.cumsum(px.heights)\n",
    "            ql = ql / px.num_instances\n",
    "            t = np.random.random_sample()\n",
    "            l_ix = np.where(ql >= t)\n",
    "            l = l_ix[0][0]\n",
    "            pxValue[i] = (px.bin_edges[l + 1] - px.bin_edges[l]) * np.random.random_sample() + px.bin_edges[l]\n",
    "        return pxValue"
   ]
  },
  {
   "cell_type": "code",
   "execution_count": 12,
   "metadata": {},
   "outputs": [],
   "source": [
    "# reshape\n",
    "x = np.reshape(x, (x.shape[0], -1))\n",
    "\n",
    "gnb = GenerativeBayes()\n",
    "gnb.train(x, y)"
   ]
  },
  {
   "cell_type": "code",
   "execution_count": 16,
   "metadata": {},
   "outputs": [
    {
     "data": {
      "image/png": "[encoded data removed]",
      "text/plain": [
       "<matplotlib.figure.Figure at 0x11907ccc0>"
      ]
     },
     "metadata": {},
     "output_type": "display_data"
    }
   ],
   "source": [
    "f, axarr = plt.subplots(3, 3, figsize=(10, 10))\n",
    "for i in range(9):\n",
    "    new_px = gnb.sample_naive_bayes(0)\n",
    "    new_px = new_px.reshape(images[0,:,:].shape)\n",
    "    axarr[i % 3, i//3].imshow(new_px)\n",
    "\n",
    "plt.show()"
   ]
  },
  {
   "cell_type": "markdown",
   "metadata": {},
   "source": [
    "# Tree"
   ]
  },
  {
   "cell_type": "code",
   "execution_count": 1,
   "metadata": {},
   "outputs": [
    {
     "name": "stderr",
     "output_type": "stream",
     "text": [
      "/Users/lucasmueller/anaconda/lib/python3.6/site-packages/sklearn/cross_validation.py:41: DeprecationWarning: This module was deprecated in version 0.18 in favor of the model_selection module into which all the refactored classes and functions are moved. Also note that the interface of the new CV iterators are different from that of this module. This module will be removed in 0.20.\n",
      "  \"This module will be removed in 0.20.\", DeprecationWarning)\n"
     ]
    }
   ],
   "source": [
    "from sklearn.datasets import load_digits\n",
    "from sklearn import cross_validation\n",
    "import numpy as np\n",
    "import pylab as plt\n",
    "from copy import deepcopy\n",
    "from queue import PriorityQueue\n",
    "%matplotlib inline"
   ]
  },
  {
   "cell_type": "code",
   "execution_count": 2,
   "metadata": {},
   "outputs": [],
   "source": [
    "#plotting 64, array as (8,8) gray picture\n",
    "def image_show(data, title):\n",
    "    data.shape = (8,8)\n",
    "    plt.gray()\n",
    "    plt.imshow(data)\n",
    "    plt.title(title)\n",
    "    plt.show()\n",
    "    return\n",
    "\n",
    "#loading data set\n",
    "digits = load_digits()\n",
    "\n",
    "data = digits['data']\n",
    "images = digits['images']\n",
    "target = digits['target']\n",
    "target_names = digits['target_names']\n",
    "\n",
    "x_all = data\n",
    "y_all = target\n",
    "\n",
    "#splitting data\n",
    "x_train, x_test, y_train, y_test = \\\n",
    "    cross_validation.train_test_split(data, target, \\\n",
    "                                     test_size=0.4, random_state=0)\n",
    "\n",
    "#extract threes from training set\n",
    "x_threes = x_train[np.where(y_train == 3)]"
   ]
  },
  {
   "cell_type": "code",
   "execution_count": 5,
   "metadata": {},
   "outputs": [],
   "source": [
    "class Node:\n",
    "    \n",
    "    threshold_number = 10\n",
    "    \n",
    "    def __init__(self, data, domain, split_dim, total_score, tree):\n",
    "        self.left_child = None\n",
    "        self.right_child = None\n",
    "        self.pot_left_child = None\n",
    "        self.pot_right_child = None\n",
    "        self.features = data\n",
    "        self.split_dim = split_dim\n",
    "        self.total_score = total_score\n",
    "        self.domain = domain\n",
    "        self.tree = tree\n",
    "        self.volume = np.prod([self.domain[i, 1] - self.domain[i, 0] \\\n",
    "                               for i in range(len(self.domain))])\n",
    "        self.thresholds = self.thresholds()\n",
    "        \n",
    "        self.best_score = float('inf')\n",
    "        self.left_domain = deepcopy(self.domain)\n",
    "        self.right_domain = deepcopy(self.domain)\n",
    "        self.left_features = None\n",
    "        self.right_features = None\n",
    "        self.left_score = None\n",
    "        self.right_score = None\n",
    "        \n",
    "        self.score()\n",
    "        \n",
    "        tree.queue.put(self, self.best_score)\n",
    "        \n",
    "    def thresholds(self):\n",
    "        lower = self.domain[self.split_dim, 0]\n",
    "        upper = self.domain[self.split_dim, 1]\n",
    "        dist = upper - lower\n",
    "        step = dist / (self.threshold_number + 1)\n",
    "        thresholds = []\n",
    "        t = lower\n",
    "        for i in range(self.threshold_number):\n",
    "            t += step\n",
    "            thresholds.append(t)\n",
    "        return thresholds\n",
    "            \n",
    "    def score(self):\n",
    "        next_split = self.tree.next_split(self.split_dim)\n",
    "        self.left_child = Node(self.left_features, self.left_domain, next_split, self.left_score, \\\n",
    "                               self.tree)\n",
    "        \n",
    "        for t in self.thresholds:\n",
    "            print('\\nthreshold', t)\n",
    "            left = self.features[np.where(self.features[:, self.split_dim] <= t)]\n",
    "            print('left.shape:', left.shape)\n",
    "            right = self.features[np.where(self.features[:, self.split_dim] > t)]\n",
    "            print('right.shape:', right.shape)\n",
    "            left_fraction = (t - self.domain[self.split_dim, 0]) / \\\n",
    "                               (self.domain[self.split_dim, 1] - self.domain[self.split_dim, 0])\n",
    "            print('left fraction:', left_fraction)\n",
    "            right_fraction = (self.domain[self.split_dim, 1] - t) / \\\n",
    "                              (self.domain[self.split_dim, 1] - self.domain[self.split_dim, 0])\n",
    "            print('right fraction', right_fraction)\n",
    "            p_left = len(left) / self.tree.num_instances / self.volume / left_fraction\n",
    "            print('p_left', p_left)\n",
    "            p_right = len(right) / self.tree.num_instances / self.volume / right_fraction\n",
    "            print('p_right', p_right)\n",
    "            left_score = p_left**2 * left_fraction * self.volume\n",
    "            right_score = p_right**2 * right_fraction * self.volume\n",
    "            score = left_score + right_score - self.total_score\n",
    "            print('threshold:', t, 'gives score:', score)\n",
    "            if score < self.best_score:\n",
    "                self.best_score = score\n",
    "                self.left_domain[self.split_dim, 1] = t\n",
    "                self.right_domain[self.split_dim, 0] = t\n",
    "                self.left_features = left\n",
    "                self.right_features = right    \n",
    "        return\n",
    "    \n",
    "    def split(self):\n",
    "        next_split = tree.next_split(self.split_dim)\n",
    "        self.left_child = Node(self.left_features, self.left_domain, next_split, self.left_score, \\\n",
    "                               self.tree)\n",
    "        self.right_child = Node(self.right_features, self.right_domain, next_split, self.right_score, \\\n",
    "                               self.tree)\n",
    "        self.tree.leaf_count += 1\n",
    "        return\n",
    "\n",
    "class Tree():\n",
    "     \n",
    "    def __init__(self, data, domain, num_leaves):\n",
    "        self.data = data\n",
    "        self.domain = domain\n",
    "        self.num_leaves = num_leaves\n",
    "        self.num_instances = len(data)\n",
    "        self.volume = np.prod([self.domain[i, 1] - self.domain[i, 0] \\\n",
    "                               for i in range(len(self.domain))])\n",
    "        self.initial_score = 1 / self.volume\n",
    "        self.root = Node(self.data, self.domain, 0, self.initial_score, self)\n",
    "        self.queue = PriorityQueue()\n",
    "        self.leaf_count = 1\n",
    "        \n",
    "         \n",
    "    def next_split(self, current):\n",
    "        if current == data.shape[1] - 1:\n",
    "            return 0\n",
    "        else:\n",
    "            return current + 1\n",
    "        \n",
    "    def build(self):\n",
    "        while self.leaf_count < self.num_leaves:\n",
    "            print('\\nnumber of leaves now:', self.leaf_count)\n",
    "            leaf_to_split = self.queue.get()\n",
    "            leaf_to_split.split()\n",
    "        return "
   ]
  },
  {
   "cell_type": "code",
   "execution_count": 7,
   "metadata": {
    "scrolled": false
   },
   "outputs": [
    {
     "ename": "RecursionError",
     "evalue": "maximum recursion depth exceeded",
     "output_type": "error",
     "traceback": [
      "\u001b[0;31m---------------------------------------------------------------------------\u001b[0m",
      "\u001b[0;31mRecursionError\u001b[0m                            Traceback (most recent call last)",
      "\u001b[0;32m<ipython-input-7-be82adb7c4f1>\u001b[0m in \u001b[0;36m<module>\u001b[0;34m()\u001b[0m\n\u001b[1;32m      3\u001b[0m \u001b[0mdomain\u001b[0m\u001b[0;34m[\u001b[0m\u001b[0;34m:\u001b[0m\u001b[0;34m,\u001b[0m \u001b[0;36m1\u001b[0m\u001b[0;34m]\u001b[0m \u001b[0;34m=\u001b[0m \u001b[0;36m16\u001b[0m\u001b[0;34m\u001b[0m\u001b[0m\n\u001b[1;32m      4\u001b[0m \u001b[0;34m\u001b[0m\u001b[0m\n\u001b[0;32m----> 5\u001b[0;31m \u001b[0mtree\u001b[0m \u001b[0;34m=\u001b[0m \u001b[0mTree\u001b[0m\u001b[0;34m(\u001b[0m\u001b[0mx_threes\u001b[0m\u001b[0;34m,\u001b[0m \u001b[0mdomain\u001b[0m\u001b[0;34m,\u001b[0m \u001b[0;36m10\u001b[0m\u001b[0;34m)\u001b[0m\u001b[0;34m\u001b[0m\u001b[0m\n\u001b[0m\u001b[1;32m      6\u001b[0m \u001b[0mroot\u001b[0m \u001b[0;34m=\u001b[0m \u001b[0mNode\u001b[0m\u001b[0;34m(\u001b[0m\u001b[0mx_threes\u001b[0m\u001b[0;34m,\u001b[0m \u001b[0mdomain\u001b[0m\u001b[0;34m,\u001b[0m \u001b[0;36m50\u001b[0m\u001b[0;34m,\u001b[0m \u001b[0;36m0\u001b[0m\u001b[0;34m,\u001b[0m \u001b[0mtree\u001b[0m\u001b[0;34m)\u001b[0m\u001b[0;34m\u001b[0m\u001b[0m\n\u001b[1;32m      7\u001b[0m \u001b[0mtree\u001b[0m\u001b[0;34m.\u001b[0m\u001b[0mbuild\u001b[0m\u001b[0;34m(\u001b[0m\u001b[0;34m)\u001b[0m\u001b[0;34m\u001b[0m\u001b[0m\n",
      "\u001b[0;32m<ipython-input-5-c1905064bdc4>\u001b[0m in \u001b[0;36m__init__\u001b[0;34m(self, data, domain, num_leaves)\u001b[0m\n\u001b[1;32m     86\u001b[0m         \u001b[0mself\u001b[0m\u001b[0;34m.\u001b[0m\u001b[0mvolume\u001b[0m \u001b[0;34m=\u001b[0m \u001b[0mnp\u001b[0m\u001b[0;34m.\u001b[0m\u001b[0mprod\u001b[0m\u001b[0;34m(\u001b[0m\u001b[0;34m[\u001b[0m\u001b[0mself\u001b[0m\u001b[0;34m.\u001b[0m\u001b[0mdomain\u001b[0m\u001b[0;34m[\u001b[0m\u001b[0mi\u001b[0m\u001b[0;34m,\u001b[0m \u001b[0;36m1\u001b[0m\u001b[0;34m]\u001b[0m \u001b[0;34m-\u001b[0m \u001b[0mself\u001b[0m\u001b[0;34m.\u001b[0m\u001b[0mdomain\u001b[0m\u001b[0;34m[\u001b[0m\u001b[0mi\u001b[0m\u001b[0;34m,\u001b[0m \u001b[0;36m0\u001b[0m\u001b[0;34m]\u001b[0m                                \u001b[0;32mfor\u001b[0m \u001b[0mi\u001b[0m \u001b[0;32min\u001b[0m \u001b[0mrange\u001b[0m\u001b[0;34m(\u001b[0m\u001b[0mlen\u001b[0m\u001b[0;34m(\u001b[0m\u001b[0mself\u001b[0m\u001b[0;34m.\u001b[0m\u001b[0mdomain\u001b[0m\u001b[0;34m)\u001b[0m\u001b[0;34m)\u001b[0m\u001b[0;34m]\u001b[0m\u001b[0;34m)\u001b[0m\u001b[0;34m\u001b[0m\u001b[0m\n\u001b[1;32m     87\u001b[0m         \u001b[0mself\u001b[0m\u001b[0;34m.\u001b[0m\u001b[0minitial_score\u001b[0m \u001b[0;34m=\u001b[0m \u001b[0;36m1\u001b[0m \u001b[0;34m/\u001b[0m \u001b[0mself\u001b[0m\u001b[0;34m.\u001b[0m\u001b[0mvolume\u001b[0m\u001b[0;34m\u001b[0m\u001b[0m\n\u001b[0;32m---> 88\u001b[0;31m         \u001b[0mself\u001b[0m\u001b[0;34m.\u001b[0m\u001b[0mroot\u001b[0m \u001b[0;34m=\u001b[0m \u001b[0mNode\u001b[0m\u001b[0;34m(\u001b[0m\u001b[0mself\u001b[0m\u001b[0;34m.\u001b[0m\u001b[0mdata\u001b[0m\u001b[0;34m,\u001b[0m \u001b[0mself\u001b[0m\u001b[0;34m.\u001b[0m\u001b[0mdomain\u001b[0m\u001b[0;34m,\u001b[0m \u001b[0;36m0\u001b[0m\u001b[0;34m,\u001b[0m \u001b[0mself\u001b[0m\u001b[0;34m.\u001b[0m\u001b[0minitial_score\u001b[0m\u001b[0;34m,\u001b[0m \u001b[0mself\u001b[0m\u001b[0;34m)\u001b[0m\u001b[0;34m\u001b[0m\u001b[0m\n\u001b[0m\u001b[1;32m     89\u001b[0m         \u001b[0mself\u001b[0m\u001b[0;34m.\u001b[0m\u001b[0mqueue\u001b[0m \u001b[0;34m=\u001b[0m \u001b[0mPriorityQueue\u001b[0m\u001b[0;34m(\u001b[0m\u001b[0;34m)\u001b[0m\u001b[0;34m\u001b[0m\u001b[0m\n\u001b[1;32m     90\u001b[0m         \u001b[0mself\u001b[0m\u001b[0;34m.\u001b[0m\u001b[0mleaf_count\u001b[0m \u001b[0;34m=\u001b[0m \u001b[0;36m1\u001b[0m\u001b[0;34m\u001b[0m\u001b[0m\n",
      "\u001b[0;32m<ipython-input-5-c1905064bdc4>\u001b[0m in \u001b[0;36m__init__\u001b[0;34m(self, data, domain, split_dim, total_score, tree)\u001b[0m\n\u001b[1;32m     24\u001b[0m         \u001b[0mself\u001b[0m\u001b[0;34m.\u001b[0m\u001b[0mright_score\u001b[0m \u001b[0;34m=\u001b[0m \u001b[0;32mNone\u001b[0m\u001b[0;34m\u001b[0m\u001b[0m\n\u001b[1;32m     25\u001b[0m \u001b[0;34m\u001b[0m\u001b[0m\n\u001b[0;32m---> 26\u001b[0;31m         \u001b[0mself\u001b[0m\u001b[0;34m.\u001b[0m\u001b[0mscore\u001b[0m\u001b[0;34m(\u001b[0m\u001b[0;34m)\u001b[0m\u001b[0;34m\u001b[0m\u001b[0m\n\u001b[0m\u001b[1;32m     27\u001b[0m \u001b[0;34m\u001b[0m\u001b[0m\n\u001b[1;32m     28\u001b[0m         \u001b[0mtree\u001b[0m\u001b[0;34m.\u001b[0m\u001b[0mqueue\u001b[0m\u001b[0;34m.\u001b[0m\u001b[0mput\u001b[0m\u001b[0;34m(\u001b[0m\u001b[0mself\u001b[0m\u001b[0;34m,\u001b[0m \u001b[0mself\u001b[0m\u001b[0;34m.\u001b[0m\u001b[0mbest_score\u001b[0m\u001b[0;34m)\u001b[0m\u001b[0;34m\u001b[0m\u001b[0m\n",
      "\u001b[0;32m<ipython-input-5-c1905064bdc4>\u001b[0m in \u001b[0;36mscore\u001b[0;34m(self)\u001b[0m\n\u001b[1;32m     42\u001b[0m     \u001b[0;32mdef\u001b[0m \u001b[0mscore\u001b[0m\u001b[0;34m(\u001b[0m\u001b[0mself\u001b[0m\u001b[0;34m)\u001b[0m\u001b[0;34m:\u001b[0m\u001b[0;34m\u001b[0m\u001b[0m\n\u001b[1;32m     43\u001b[0m         \u001b[0mnext_split\u001b[0m \u001b[0;34m=\u001b[0m \u001b[0mself\u001b[0m\u001b[0;34m.\u001b[0m\u001b[0mtree\u001b[0m\u001b[0;34m.\u001b[0m\u001b[0mnext_split\u001b[0m\u001b[0;34m(\u001b[0m\u001b[0mself\u001b[0m\u001b[0;34m.\u001b[0m\u001b[0msplit_dim\u001b[0m\u001b[0;34m)\u001b[0m\u001b[0;34m\u001b[0m\u001b[0m\n\u001b[0;32m---> 44\u001b[0;31m         \u001b[0mself\u001b[0m\u001b[0;34m.\u001b[0m\u001b[0mleft_child\u001b[0m \u001b[0;34m=\u001b[0m \u001b[0mNode\u001b[0m\u001b[0;34m(\u001b[0m\u001b[0mself\u001b[0m\u001b[0;34m.\u001b[0m\u001b[0mleft_features\u001b[0m\u001b[0;34m,\u001b[0m \u001b[0mself\u001b[0m\u001b[0;34m.\u001b[0m\u001b[0mleft_domain\u001b[0m\u001b[0;34m,\u001b[0m \u001b[0mnext_split\u001b[0m\u001b[0;34m,\u001b[0m \u001b[0mself\u001b[0m\u001b[0;34m.\u001b[0m\u001b[0mleft_score\u001b[0m\u001b[0;34m,\u001b[0m                                \u001b[0mself\u001b[0m\u001b[0;34m.\u001b[0m\u001b[0mtree\u001b[0m\u001b[0;34m)\u001b[0m\u001b[0;34m\u001b[0m\u001b[0m\n\u001b[0m\u001b[1;32m     45\u001b[0m \u001b[0;34m\u001b[0m\u001b[0m\n\u001b[1;32m     46\u001b[0m         \u001b[0;32mfor\u001b[0m \u001b[0mt\u001b[0m \u001b[0;32min\u001b[0m \u001b[0mself\u001b[0m\u001b[0;34m.\u001b[0m\u001b[0mthresholds\u001b[0m\u001b[0;34m:\u001b[0m\u001b[0;34m\u001b[0m\u001b[0m\n",
      "... last 2 frames repeated, from the frame below ...\n",
      "\u001b[0;32m<ipython-input-5-c1905064bdc4>\u001b[0m in \u001b[0;36m__init__\u001b[0;34m(self, data, domain, split_dim, total_score, tree)\u001b[0m\n\u001b[1;32m     24\u001b[0m         \u001b[0mself\u001b[0m\u001b[0;34m.\u001b[0m\u001b[0mright_score\u001b[0m \u001b[0;34m=\u001b[0m \u001b[0;32mNone\u001b[0m\u001b[0;34m\u001b[0m\u001b[0m\n\u001b[1;32m     25\u001b[0m \u001b[0;34m\u001b[0m\u001b[0m\n\u001b[0;32m---> 26\u001b[0;31m         \u001b[0mself\u001b[0m\u001b[0;34m.\u001b[0m\u001b[0mscore\u001b[0m\u001b[0;34m(\u001b[0m\u001b[0;34m)\u001b[0m\u001b[0;34m\u001b[0m\u001b[0m\n\u001b[0m\u001b[1;32m     27\u001b[0m \u001b[0;34m\u001b[0m\u001b[0m\n\u001b[1;32m     28\u001b[0m         \u001b[0mtree\u001b[0m\u001b[0;34m.\u001b[0m\u001b[0mqueue\u001b[0m\u001b[0;34m.\u001b[0m\u001b[0mput\u001b[0m\u001b[0;34m(\u001b[0m\u001b[0mself\u001b[0m\u001b[0;34m,\u001b[0m \u001b[0mself\u001b[0m\u001b[0;34m.\u001b[0m\u001b[0mbest_score\u001b[0m\u001b[0;34m)\u001b[0m\u001b[0;34m\u001b[0m\u001b[0m\n",
      "\u001b[0;31mRecursionError\u001b[0m: maximum recursion depth exceeded"
     ]
    }
   ],
   "source": [
    "domain = np.empty((64, 2))\n",
    "domain[:, 0] = 0\n",
    "domain[:, 1] = 16\n",
    "\n",
    "tree = Tree(x_threes, domain, 10)\n",
    "root = Node(x_threes, domain, 50, 0, tree)\n",
    "tree.build()"
   ]
  },
  {
   "cell_type": "markdown",
   "metadata": {},
   "source": [
    "# QDA Generative"
   ]
  },
  {
   "cell_type": "code",
   "execution_count": 27,
   "metadata": {},
   "outputs": [],
   "source": [
    "from sklearn.discriminant_analysis import QuadraticDiscriminantAnalysis\n",
    "from numpy import linalg as la\n",
    "\n",
    "def nearestPD(A):\n",
    "    \"\"\"Find the nearest positive-definite matrix to input\n",
    "\n",
    "    A Python/Numpy port of John D'Errico's `nearestSPD` MATLAB code [1], which\n",
    "    credits [2].\n",
    "\n",
    "    [1] https://www.mathworks.com/matlabcentral/fileexchange/42885-nearestspd\n",
    "\n",
    "    [2] N.J. Higham, \"Computing a nearest symmetric positive semidefinite\n",
    "    matrix\" (1988): https://doi.org/10.1016/0024-3795(88)90223-6\n",
    "    \"\"\"\n",
    "\n",
    "    B = (A + A.T) / 2\n",
    "    _, s, V = la.svd(B)\n",
    "\n",
    "    H = np.dot(V.T, np.dot(np.diag(s), V))\n",
    "\n",
    "    A2 = (B + H) / 2\n",
    "\n",
    "    A3 = (A2 + A2.T) / 2\n",
    "\n",
    "    if isPD(A3):\n",
    "        return A3\n",
    "\n",
    "    spacing = np.spacing(la.norm(A))\n",
    "    # The above is different from [1]. It appears that MATLAB's `chol` Cholesky\n",
    "    # decomposition will accept matrixes with exactly 0-eigenvalue, whereas\n",
    "    # Numpy's will not. So where [1] uses `eps(mineig)` (where `eps` is Matlab\n",
    "    # for `np.spacing`), we use the above definition. CAVEAT: our `spacing`\n",
    "    # will be much larger than [1]'s `eps(mineig)`, since `mineig` is usually on\n",
    "    # the order of 1e-16, and `eps(1e-16)` is on the order of 1e-34, whereas\n",
    "    # `spacing` will, for Gaussian random matrixes of small dimension, be on\n",
    "    # othe order of 1e-16. In practice, both ways converge, as the unit test\n",
    "    # below suggests.\n",
    "    I = np.eye(A.shape[0])\n",
    "    k = 1\n",
    "    while not isPD(A3):\n",
    "        mineig = np.min(np.real(la.eigvals(A3)))\n",
    "        A3 += I * (-mineig * k**2 + spacing)\n",
    "        k += 1\n",
    "\n",
    "    return A3\n",
    "\n",
    "def isPD(B):\n",
    "    \"\"\"Returns true when input is positive-definite, via Cholesky\"\"\"\n",
    "    try:\n",
    "        _ = la.cholesky(B)\n",
    "        return True\n",
    "    except la.LinAlgError:\n",
    "        return False"
   ]
  },
  {
   "cell_type": "code",
   "execution_count": 58,
   "metadata": {},
   "outputs": [
    {
     "data": {
      "text/plain": [
       "QuadraticDiscriminantAnalysis(priors=None, reg_param=0.0,\n",
       "               store_covariance=True, store_covariances=None, tol=0.0001)"
      ]
     },
     "execution_count": 58,
     "metadata": {},
     "output_type": "execute_result"
    }
   ],
   "source": [
    "# use only digit 3\n",
    "x, y = use_subset([3, 7], images, labels)\n",
    "# reshape\n",
    "x = np.reshape(x, (x.shape[0], -1))\n",
    "\n",
    "\"\"\" \n",
    "We used this built-in function becasue we think the authors spent more time on that than we did. \n",
    "Since we already submitted it once we hope that's fine.\n",
    "\"\"\"\n",
    "clf = QuadraticDiscriminantAnalysis(store_covariance=True)\n",
    "clf.fit(x, y)"
   ]
  },
  {
   "cell_type": "code",
   "execution_count": 59,
   "metadata": {},
   "outputs": [
    {
     "name": "stderr",
     "output_type": "stream",
     "text": [
      "/Users/lucasmueller/anaconda/lib/python3.6/site-packages/ipykernel_launcher.py:6: RuntimeWarning: covariance is not positive-semidefinite.\n",
      "  \n"
     ]
    }
   ],
   "source": [
    "mu = clf.means_[0,:]\n",
    "cov_mat = clf.covariance_[0]\n",
    "if not isPD(cov_mat):\n",
    "    cov_mat = nearestPD(cov_mat)\n",
    "    \n",
    "y = np.random.multivariate_normal(mu, cov_mat, 12)"
   ]
  },
  {
   "cell_type": "code",
   "execution_count": 60,
   "metadata": {
    "scrolled": false
   },
   "outputs": [
    {
     "data": {
      "image/png": "[encoded data removed]",
      "text/plain": [
       "<matplotlib.figure.Figure at 0x11e5a4390>"
      ]
     },
     "metadata": {},
     "output_type": "display_data"
    }
   ],
   "source": [
    "y = y.reshape(12, 9, 9)\n",
    "f, axarr = plt.subplots(3, 4, figsize=(10, 10))\n",
    "for i in range(12):\n",
    "    axarr[i % 3, i//3].imshow(y[i,:,:])\n",
    "\n",
    "plt.show()"
   ]
  }
 ],
 "metadata": {
  "kernelspec": {
   "display_name": "Python 3",
   "language": "python",
   "name": "python3"
  },
  "language_info": {
   "codemirror_mode": {
    "name": "ipython",
    "version": 3
   },
   "file_extension": ".py",
   "mimetype": "text/x-python",
   "name": "python",
   "nbconvert_exporter": "python",
   "pygments_lexer": "ipython3",
   "version": "3.6.3"
  }
 },
 "nbformat": 4,
 "nbformat_minor": 1
}
